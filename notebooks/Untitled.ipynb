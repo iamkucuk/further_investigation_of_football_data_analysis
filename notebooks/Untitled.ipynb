{
 "cells": [
  {
   "cell_type": "code",
   "execution_count": 2,
   "metadata": {},
   "outputs": [],
   "source": [
    "import pandas as pd\n",
    "import numpy as np\n",
    "from sklearn.model_selection import train_test_split\n",
    "from sklearn.ensemble import RandomForestClassifier\n",
    "from sklearn.metrics import roc_auc_score, accuracy_score\n",
    "from sklearn.preprocessing import OneHotEncoder, MinMaxScaler, StandardScaler\n",
    "from tqdm.auto import tqdm\n",
    "import matplotlib.pyplot as plt"
   ]
  },
  {
   "cell_type": "code",
   "execution_count": null,
   "metadata": {},
   "outputs": [],
   "source": []
  },
  {
   "cell_type": "code",
   "execution_count": 85,
   "metadata": {},
   "outputs": [
    {
     "name": "stderr",
     "output_type": "stream",
     "text": [
      "C:\\Users\\furka\\Miniconda3\\envs\\fifa\\lib\\site-packages\\IPython\\core\\interactiveshell.py:3057: DtypeWarning: Columns (0,5,10,13,19,20,21,22,23,24,25,26,27,28,29,30,31,49,51,57,58,59,60,61,62,63,64,65,66,67,68,69) have mixed types. Specify dtype option on import or set low_memory=False.\n",
      "  interactivity=interactivity, compiler=compiler, result=result)\n"
     ]
    },
    {
     "name": "stdout",
     "output_type": "stream",
     "text": [
      "         date   dif  draw_count  goals_against  goals_scored  \\\n",
      "0  2006-11-03 -20.0         6.0           54.0          34.0   \n",
      "1  2010-08-27   4.0         0.0            1.0           5.0   \n",
      "2  2010-09-17   3.0         1.0            5.0           8.0   \n",
      "3  2010-09-24  -3.0         1.0           11.0           8.0   \n",
      "4  2010-10-15  -7.0         1.0           16.0           9.0   \n",
      "\n",
      "               league  lose_count  points  ranking  season  ...  \\\n",
      "0  Germany Bundesliga        13.0    24.0     16.0    2005  ...   \n",
      "1  Germany Bundesliga         0.0     6.0      1.0    2010  ...   \n",
      "2  Germany Bundesliga         1.0     7.0      6.0    2010  ...   \n",
      "3  Germany Bundesliga         3.0     7.0     11.0    2010  ...   \n",
      "4  Germany Bundesliga         5.0     7.0     14.0    2010  ...   \n",
      "\n",
      "  Team Width_away  Defender Line_away  DP_away IP_away  SAA_away  TAA_away  \\\n",
      "0          Narrow               Cover     18.0    13.0      23.0     25.82   \n",
      "1          Normal               Cover      9.0     8.0      35.0     27.45   \n",
      "2          Normal               Cover     16.0    14.0      31.0     24.09   \n",
      "3          Normal               Cover     17.0    15.0      32.0     28.91   \n",
      "4          Normal               Cover     10.0     7.0      28.0     26.18   \n",
      "\n",
      "    win   draw   lose outcome_of_match  \n",
      "0  True  False  False                1  \n",
      "1  True  False  False                1  \n",
      "2  True  False  False                1  \n",
      "3  True  False  False                1  \n",
      "4  True  False  False                1  \n",
      "\n",
      "[5 rows x 78 columns]\n"
     ]
    }
   ],
   "source": [
    "df = pd.read_csv(\"../dropped_unnecessary.csv\")\n",
    "print(df.head())"
   ]
  },
  {
   "cell_type": "code",
   "execution_count": 86,
   "metadata": {},
   "outputs": [
    {
     "name": "stdout",
     "output_type": "stream",
     "text": [
      "Index(['date', 'dif', 'draw_count', 'goals_against', 'goals_scored', 'league',\n",
      "       'lose_count', 'points', 'ranking', 'season', 'team', 'week',\n",
      "       'win_count', 'Team Name', 'ID', 'OVA', 'ATT', 'MID', 'DEF',\n",
      "       'Transfer Budget', 'Speed', 'Dribbling', 'BuildPassing',\n",
      "       'BuildPositioning', 'Crossing', 'ChancePassing', 'Shooting',\n",
      "       'ChancePositioning', 'Aggression', 'Pressure', 'Team Width',\n",
      "       'Defender Line', 'DP', 'IP', 'SAA', 'TAA', 'away_score_final',\n",
      "       'away_score_first', 'away_team', 'home_score_final', 'home_score_first',\n",
      "       'home_team', 'dif_away', 'draw_count_away', 'goals_against_away',\n",
      "       'goals_scored_away', 'lose_count_away', 'points_away', 'ranking_away',\n",
      "       'team_away', 'win_count_away', 'Team Name_away', 'ID_away', 'OVA_away',\n",
      "       'ATT_away', 'MID_away', 'DEF_away', 'Transfer Budget_away',\n",
      "       'Speed_away', 'Dribbling_away', 'BuildPassing_away',\n",
      "       'BuildPositioning_away', 'Crossing_away', 'ChancePassing_away',\n",
      "       'Shooting_away', 'ChancePositioning_away', 'Aggression_away',\n",
      "       'Pressure_away', 'Team Width_away', 'Defender Line_away', 'DP_away',\n",
      "       'IP_away', 'SAA_away', 'TAA_away', 'win', 'draw', 'lose',\n",
      "       'outcome_of_match'],\n",
      "      dtype='object')\n"
     ]
    }
   ],
   "source": [
    "print(df.columns)"
   ]
  },
  {
   "cell_type": "code",
   "execution_count": 87,
   "metadata": {},
   "outputs": [],
   "source": [
    "df.drop(columns=[\"date\", \"league\", \"season\", \"week\", \"win\", \"draw\", \"lose\", \"ID\", \"ID_away\",\n",
    "                 \"Team Name\", \"Team Name_away\", \"away_team\", \"home_team\", \"team\", \"team_away\",\n",
    "                \"away_score_final\", \"away_score_first\", \"home_score_final\", \"home_score_first\"], inplace=True)"
   ]
  },
  {
   "cell_type": "code",
   "execution_count": 88,
   "metadata": {},
   "outputs": [],
   "source": [
    "import re\n",
    "df[\"Transfer Budget\"] = (df[\"Transfer Budget\"].replace(r'[KM]+$', '', regex=True).astype(float) * \\\n",
    "                          df[\"Transfer Budget\"].str.extract(r'[\\d\\.]+([KM]+)', expand=False)\n",
    "                          .fillna(1).replace(['K','M'], [10**3, 10**6]).astype(int))\n",
    "df[\"Transfer Budget_away\"] = (df[\"Transfer Budget_away\"].replace(r'[KM]+$', '', regex=True).astype(float) * \\\n",
    "                          df[\"Transfer Budget_away\"].str.extract(r'[\\d\\.]+([KM]+)', expand=False)\n",
    "                          .fillna(1).replace(['K','M'], [10**3, 10**6]).astype(int))"
   ]
  },
  {
   "cell_type": "code",
   "execution_count": 89,
   "metadata": {},
   "outputs": [],
   "source": [
    "df = df.dropna()"
   ]
  },
  {
   "cell_type": "code",
   "execution_count": 90,
   "metadata": {},
   "outputs": [],
   "source": [
    "X = df.drop(\"outcome_of_match\", axis = 1)\n",
    "y = df[\"outcome_of_match\"].values"
   ]
  },
  {
   "cell_type": "code",
   "execution_count": 91,
   "metadata": {},
   "outputs": [
    {
     "data": {
      "text/plain": [
       "Index(['dif', 'draw_count', 'goals_against', 'goals_scored', 'lose_count',\n",
       "       'points', 'ranking', 'win_count', 'OVA', 'ATT', 'MID', 'DEF',\n",
       "       'Transfer Budget', 'Speed', 'Dribbling', 'BuildPassing',\n",
       "       'BuildPositioning', 'Crossing', 'ChancePassing', 'Shooting',\n",
       "       'ChancePositioning', 'Aggression', 'Pressure', 'Team Width',\n",
       "       'Defender Line', 'DP', 'IP', 'SAA', 'TAA', 'dif_away',\n",
       "       'draw_count_away', 'goals_against_away', 'goals_scored_away',\n",
       "       'lose_count_away', 'points_away', 'ranking_away', 'win_count_away',\n",
       "       'OVA_away', 'ATT_away', 'MID_away', 'DEF_away', 'Transfer Budget_away',\n",
       "       'Speed_away', 'Dribbling_away', 'BuildPassing_away',\n",
       "       'BuildPositioning_away', 'Crossing_away', 'ChancePassing_away',\n",
       "       'Shooting_away', 'ChancePositioning_away', 'Aggression_away',\n",
       "       'Pressure_away', 'Team Width_away', 'Defender Line_away', 'DP_away',\n",
       "       'IP_away', 'SAA_away', 'TAA_away'],\n",
       "      dtype='object')"
      ]
     },
     "execution_count": 91,
     "metadata": {},
     "output_type": "execute_result"
    }
   ],
   "source": [
    "X.columns"
   ]
  },
  {
   "cell_type": "code",
   "execution_count": 92,
   "metadata": {},
   "outputs": [],
   "source": [
    "def one_hot_dataframe(df, cols):\n",
    "    for each in cols:\n",
    "        dummies = pd.get_dummies(df[each], prefix=each, drop_first=False)\n",
    "        df = df.drop(each, axis = 1)\n",
    "        df = pd.concat([df, dummies], axis=1)\n",
    "    return df"
   ]
  },
  {
   "cell_type": "code",
   "execution_count": 93,
   "metadata": {},
   "outputs": [],
   "source": [
    "encoded_X = one_hot_dataframe(X, [\"Speed\",\n",
    "                                \"Dribbling\",\n",
    "                                \"BuildPassing\",\n",
    "                                \"BuildPositioning\",\n",
    "                                \"Crossing\",\n",
    "                                \"ChancePassing\",\n",
    "                                \"Shooting\",\n",
    "                                \"ChancePositioning\",\n",
    "                                \"Aggression\",\n",
    "                                \"Pressure\",\n",
    "                                \"Team Width\",\n",
    "                                \"Defender Line\",\n",
    "                                \"Speed_away\",\n",
    "                                \"Dribbling_away\",\n",
    "                                \"BuildPassing_away\",\n",
    "                                \"BuildPositioning_away\",\n",
    "                                \"Crossing_away\",\n",
    "                                \"ChancePassing_away\",\n",
    "                                \"Shooting_away\",\n",
    "                                \"ChancePositioning_away\",\n",
    "                                \"Aggression_away\",\n",
    "                                \"Pressure_away\",\n",
    "                                \"Team Width_away\",\n",
    "                                \"Defender Line_away\"])"
   ]
  },
  {
   "cell_type": "code",
   "execution_count": 94,
   "metadata": {},
   "outputs": [],
   "source": [
    "label_encoder = OneHotEncoder(categories = \"auto\", sparse=False)\n",
    "y = label_encoder.fit_transform(y.reshape(-1, 1))"
   ]
  },
  {
   "cell_type": "code",
   "execution_count": 95,
   "metadata": {},
   "outputs": [],
   "source": [
    "scaler = StandardScaler()\n",
    "scaled_X = scaler.fit_transform(encoded_X)"
   ]
  },
  {
   "cell_type": "code",
   "execution_count": 96,
   "metadata": {},
   "outputs": [],
   "source": [
    "X_train, X_test, y_train, y_test = train_test_split(scaled_X, y, test_size = .2)"
   ]
  },
  {
   "cell_type": "code",
   "execution_count": 97,
   "metadata": {},
   "outputs": [
    {
     "name": "stderr",
     "output_type": "stream",
     "text": [
      "C:\\Users\\furka\\Miniconda3\\envs\\fifa\\lib\\site-packages\\sklearn\\ensemble\\forest.py:245: FutureWarning: The default value of n_estimators will change from 10 in version 0.20 to 100 in 0.22.\n",
      "  \"10 in version 0.20 to 100 in 0.22.\", FutureWarning)\n"
     ]
    },
    {
     "data": {
      "text/plain": [
       "RandomForestClassifier(bootstrap=True, class_weight=None, criterion='gini',\n",
       "                       max_depth=None, max_features='auto', max_leaf_nodes=None,\n",
       "                       min_impurity_decrease=0.0, min_impurity_split=None,\n",
       "                       min_samples_leaf=1, min_samples_split=2,\n",
       "                       min_weight_fraction_leaf=0.0, n_estimators=10,\n",
       "                       n_jobs=None, oob_score=False, random_state=None,\n",
       "                       verbose=0, warm_start=False)"
      ]
     },
     "execution_count": 97,
     "metadata": {},
     "output_type": "execute_result"
    }
   ],
   "source": [
    "classifier = RandomForestClassifier()\n",
    "classifier.fit(X_train, y_train.astype(int))"
   ]
  },
  {
   "cell_type": "code",
   "execution_count": null,
   "metadata": {},
   "outputs": [],
   "source": []
  },
  {
   "cell_type": "code",
   "execution_count": 98,
   "metadata": {},
   "outputs": [
    {
     "name": "stdout",
     "output_type": "stream",
     "text": [
      "Accuracy: 0.3013720742534302\n"
     ]
    }
   ],
   "source": [
    "y_pred = classifier.predict(X_test)\n",
    "print(\"Accuracy:\", accuracy_score(y_test, y_pred))"
   ]
  },
  {
   "cell_type": "code",
   "execution_count": 99,
   "metadata": {},
   "outputs": [
    {
     "data": {
      "text/plain": [
       "[<matplotlib.lines.Line2D at 0x29b8b7a74a8>]"
      ]
     },
     "execution_count": 99,
     "metadata": {},
     "output_type": "execute_result"
    },
    {
     "data": {
      "image/png": "[encoded data removed]",
      "text/plain": [
       "<Figure size 432x288 with 1 Axes>"
      ]
     },
     "metadata": {
      "needs_background": "light"
     },
     "output_type": "display_data"
    }
   ],
   "source": [
    "plt.plot(classifier.feature_importances_)"
   ]
  },
  {
   "cell_type": "code",
   "execution_count": 100,
   "metadata": {},
   "outputs": [
    {
     "data": {
      "text/plain": [
       "Index(['dif', 'draw_count', 'goals_against', 'goals_scored', 'lose_count',\n",
       "       'points', 'ranking', 'win_count', 'OVA', 'ATT', 'MID', 'DEF',\n",
       "       'Transfer Budget', 'Speed', 'Dribbling', 'BuildPassing',\n",
       "       'BuildPositioning', 'Crossing', 'ChancePassing', 'Shooting',\n",
       "       'ChancePositioning', 'Aggression', 'Pressure', 'Team Width',\n",
       "       'Defender Line', 'DP', 'IP', 'SAA', 'TAA', 'dif_away',\n",
       "       'draw_count_away', 'goals_against_away', 'goals_scored_away',\n",
       "       'lose_count_away'],\n",
       "      dtype='object')"
      ]
     },
     "execution_count": 100,
     "metadata": {},
     "output_type": "execute_result"
    }
   ],
   "source": [
    "classifier.feature_importances_\n",
    "X.columns[:34]"
   ]
  },
  {
   "cell_type": "code",
   "execution_count": 101,
   "metadata": {},
   "outputs": [
    {
     "data": {
      "text/plain": [
       "OneVsRestClassifier(estimator=XGBClassifier(base_score=0.5, booster='gbtree',\n",
       "                                            colsample_bylevel=1,\n",
       "                                            colsample_bynode=1,\n",
       "                                            colsample_bytree=1, gamma=0,\n",
       "                                            learning_rate=0.1, max_delta_step=0,\n",
       "                                            max_depth=4, min_child_weight=1,\n",
       "                                            missing=None, n_estimators=100,\n",
       "                                            n_jobs=-1, nthread=None,\n",
       "                                            objective='binary:logistic',\n",
       "                                            random_state=0, reg_alpha=0,\n",
       "                                            reg_lambda=1, scale_pos_weight=1,\n",
       "                                            seed=None, silent=None, subsample=1,\n",
       "                                            verbosity=1),\n",
       "                    n_jobs=None)"
      ]
     },
     "execution_count": 101,
     "metadata": {},
     "output_type": "execute_result"
    }
   ],
   "source": [
    "from sklearn.multiclass import OneVsRestClassifier\n",
    "from xgboost import XGBClassifier\n",
    "from sklearn.preprocessing import MultiLabelBinarizer\n",
    "\n",
    "\n",
    "\n",
    "clf = OneVsRestClassifier(XGBClassifier(n_jobs=-1, max_depth=4))\n",
    "\n",
    "\n",
    "\n",
    "# You may need to use MultiLabelBinarizer to encode your variables from arrays [[x, y, z]] to a multilabel \n",
    "\n",
    "# format before training.\n",
    "\n",
    "mlb = MultiLabelBinarizer()\n",
    "\n",
    "y = mlb.fit_transform(y_train)\n",
    "\n",
    "\n",
    "\n",
    "clf.fit(X_train, y_train)"
   ]
  },
  {
   "cell_type": "code",
   "execution_count": 102,
   "metadata": {},
   "outputs": [
    {
     "name": "stdout",
     "output_type": "stream",
     "text": [
      "Accuracy: 0.33494753833736884\n"
     ]
    }
   ],
   "source": [
    "y_pred = clf.predict(X_test)\n",
    "print(\"Accuracy:\", accuracy_score(y_test, y_pred))"
   ]
  },
  {
   "cell_type": "code",
   "execution_count": null,
   "metadata": {},
   "outputs": [],
   "source": []
  }
 ],
 "metadata": {
  "kernelspec": {
   "display_name": "Python 3",
   "language": "python",
   "name": "python3"
  },
  "language_info": {
   "codemirror_mode": {
    "name": "ipython",
    "version": 3
   },
   "file_extension": ".py",
   "mimetype": "text/x-python",
   "name": "python",
   "nbconvert_exporter": "python",
   "pygments_lexer": "ipython3",
   "version": "3.7.3"
  }
 },
 "nbformat": 4,
 "nbformat_minor": 4
}
