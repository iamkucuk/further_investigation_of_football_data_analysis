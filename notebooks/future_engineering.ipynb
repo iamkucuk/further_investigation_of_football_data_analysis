{
 "cells": [
  {
   "cell_type": "code",
   "execution_count": 1,
   "metadata": {
    "collapsed": true,
    "pycharm": {
     "is_executing": false
    }
   },
   "outputs": [],
   "source": [
    "import sqlite3\n",
    "import pandas as pd\n",
    "import numpy as np\n",
    "from tqdm.auto import tqdm\n",
    "import matplotlib.pyplot as plt"
   ]
  },
  {
   "cell_type": "code",
   "execution_count": 2,
   "outputs": [],
   "source": [
    "with sqlite3.connect('../data/database.sqlite') as con:\n",
    "    countries = pd.read_sql_query(\"SELECT * from Country\", con)\n",
    "    matches = pd.read_sql_query(\"SELECT * from Match\", con)\n",
    "    leagues = pd.read_sql_query(\"SELECT * from League\", con)\n",
    "    teams = pd.read_sql_query(\"SELECT * from Team\", con)\n",
    "    player = pd.read_sql_query(\"SELECT * from Player\",con)\n",
    "    player_attributes = pd.read_sql_query(\"SELECT * from Player_Attributes\",con)\n",
    "    sequence = pd.read_sql_query(\"SELECT * from sqlite_sequence\",con)\n",
    "    team_attributes = pd.read_sql_query(\"SELECT * from Team_Attributes\",con)"
   ],
   "metadata": {
    "collapsed": false,
    "pycharm": {
     "name": "#%%\n",
     "is_executing": false
    }
   }
  },
  {
   "cell_type": "code",
   "execution_count": 3,
   "outputs": [],
   "source": [
    "df = pd.read_csv(\"../data.csv\")\n",
    "teams = df[[\"league_id\", \"country\", \"league\", \"home_team_api_id\", \"home_team_lname\"]]\n",
    "teams = teams.drop_duplicates().reset_index().drop(\"index\", axis=1)"
   ],
   "metadata": {
    "collapsed": false,
    "pycharm": {
     "name": "#%%\n",
     "is_executing": false
    }
   }
  },
  {
   "cell_type": "code",
   "execution_count": 4,
   "outputs": [],
   "source": [
    "teams_with_api = pd.merge(teams,\n",
    "                 team_attributes,\n",
    "                 how=\"left\",\n",
    "                 left_on=\"home_team_api_id\",\n",
    "                 right_on=\"team_api_id\")\n",
    "teams_with_api = teams_with_api[[\"league_id\", \"country\", \"league\", \"team_api_id\", \"team_fifa_api_id\", \"home_team_lname\"]]\n",
    "teams = teams_with_api.drop_duplicates().reset_index().drop(\"index\", axis=1)"
   ],
   "metadata": {
    "collapsed": false,
    "pycharm": {
     "name": "#%%\n",
     "is_executing": false
    }
   }
  },
  {
   "cell_type": "code",
   "execution_count": 5,
   "outputs": [],
   "source": [
    "teams.dropna(inplace=True)\n",
    "teams = teams.drop_duplicates().reset_index().drop(\"index\", axis=1)"
   ],
   "metadata": {
    "collapsed": false,
    "pycharm": {
     "name": "#%%\n",
     "is_executing": false
    }
   }
  },
  {
   "cell_type": "code",
   "execution_count": 6,
   "outputs": [],
   "source": [
    "df = pd.read_json(\"../sofifa.jl\", lines=True)"
   ],
   "metadata": {
    "collapsed": false,
    "pycharm": {
     "name": "#%%\n",
     "is_executing": false
    }
   }
  },
  {
   "cell_type": "code",
   "execution_count": 7,
   "outputs": [],
   "source": [
    "expanded_df = pd.DataFrame(columns=[\"Date\", \"ID\",\"OVA\",\"ATT\",\"MID\",\"DEF\",\"Transfer Budget\",\n",
    "                                    \"Speed\",\"Dribbling\",\"BuildPassing\",\"BuildPositioning\",\n",
    "                                    \"Crossing\",\"ChancePassing\",\"Shooting\",\"ChancePositioning\",\n",
    "                                    \"Aggression\",\"Pressure\",\"Team Width\",\"Defender Line\",\n",
    "                                    \"DP\",\"IP\",\"SAA\",\"TAA\"])\n",
    "expanded_df[\"Date\"] = df.agg(lambda x:x[3], axis=1)\n",
    "expanded_df[\"ID\"] = pd.to_numeric(df.agg(lambda x:x[0][0], axis=1))\n",
    "expanded_df[\"OVA\"] = pd.to_numeric(df.agg(lambda x:x[0][1], axis=1))\n",
    "expanded_df[\"ATT\"] = pd.to_numeric(df.agg(lambda x:x[0][2], axis=1))\n",
    "expanded_df[\"MID\"] = pd.to_numeric(df.agg(lambda x:x[0][3], axis=1))\n",
    "expanded_df[\"DEF\"] = pd.to_numeric(df.agg(lambda x:x[0][4], axis=1))\n",
    "expanded_df[\"Transfer Budget\"] = df.agg(lambda x:x[0][5], axis=1)\n",
    "expanded_df[\"Speed\"] = df.agg(lambda x:x[1][0], axis=1)\n",
    "expanded_df[\"Dribbling\"] = df.agg(lambda x:x[1][0], axis=1)\n",
    "expanded_df[\"BuildPassing\"] = df.agg(lambda x:x[1][0], axis=1)\n",
    "expanded_df[\"BuildPositioning\"] = df.agg(lambda x:x[1][0], axis=1)\n",
    "expanded_df[\"Crossing\"] = df.agg(lambda x:x[2][0], axis=1)\n",
    "expanded_df[\"ChancePassing\"] = df.agg(lambda x:x[2][0], axis=1)\n",
    "expanded_df[\"Shooting\"] = df.agg(lambda x:x[2][0], axis=1)\n",
    "expanded_df[\"ChancePositioning\"] = df.agg(lambda x:x[2][0], axis=1)\n",
    "expanded_df[\"Aggression\"] = df.agg(lambda x:x[4][0], axis=1)\n",
    "expanded_df[\"Pressure\"] = df.agg(lambda x:x[4][1], axis=1)\n",
    "expanded_df[\"Team Width\"] = df.agg(lambda x:x[4][2], axis=1)\n",
    "expanded_df[\"Defender Line\"] = df.agg(lambda x:x[4][3], axis=1)\n",
    "expanded_df[\"DP\"] = pd.to_numeric(df.agg(lambda x:x[5][0], axis=1))\n",
    "expanded_df[\"IP\"] = pd.to_numeric(df.agg(lambda x:x[5][1], axis=1))\n",
    "expanded_df[\"SAA\"] = pd.to_numeric(df.agg(lambda x:x[5][2], axis=1))\n",
    "expanded_df[\"TAA\"] = pd.to_numeric(df.agg(lambda x:x[5][3], axis=1))"
   ],
   "metadata": {
    "collapsed": false,
    "pycharm": {
     "name": "#%%\n",
     "is_executing": false
    }
   }
  },
  {
   "cell_type": "code",
   "execution_count": 8,
   "outputs": [],
   "source": [
    "teams_complete = pd.merge(teams, expanded_df, how=\"outer\", left_on=\"team_fifa_api_id\", right_on=\"ID\")"
   ],
   "metadata": {
    "collapsed": false,
    "pycharm": {
     "name": "#%%\n",
     "is_executing": false
    }
   }
  },
  {
   "cell_type": "code",
   "execution_count": 9,
   "outputs": [],
   "source": [
    "teams_complete.dropna(inplace=True) "
   ],
   "metadata": {
    "collapsed": false,
    "pycharm": {
     "name": "#%%\n",
     "is_executing": false
    }
   }
  },
  {
   "cell_type": "code",
   "execution_count": 10,
   "outputs": [],
   "source": [
    "teams_complete = teams_complete[[\"Date\", \"ID\",\"team_api_id\", \"home_team_lname\", \"league_id\", \"league\",\n",
    "                                 \"OVA\",\"ATT\",\"MID\",\"DEF\",\"Transfer Budget\",\n",
    "                                    \"Speed\",\"Dribbling\",\"BuildPassing\",\"BuildPositioning\",\n",
    "                                    \"Crossing\",\"ChancePassing\",\"Shooting\",\"ChancePositioning\",\n",
    "                                    \"Aggression\",\"Pressure\",\"Team Width\",\"Defender Line\",\n",
    "                                    \"DP\",\"IP\",\"SAA\",\"TAA\"]]"
   ],
   "metadata": {
    "collapsed": false,
    "pycharm": {
     "name": "#%%\n",
     "is_executing": false
    }
   }
  },
  {
   "cell_type": "code",
   "execution_count": 5,
   "outputs": [],
   "source": [
    "#teams_complete.to_csv(\"../team_data.csv\", index=False)\n",
    "\n",
    "\n",
    "\n"
   ],
   "metadata": {
    "collapsed": false,
    "pycharm": {
     "name": "#%%\n",
     "is_executing": false
    }
   }
  }
 ],
 "metadata": {
  "language_info": {
   "codemirror_mode": {
    "name": "ipython",
    "version": 2
   },
   "file_extension": ".py",
   "mimetype": "text/x-python",
   "name": "python",
   "nbconvert_exporter": "python",
   "pygments_lexer": "ipython2",
   "version": "2.7.6"
  },
  "kernelspec": {
   "name": "python3",
   "language": "python",
   "display_name": "Python 3"
  },
  "pycharm": {
   "stem_cell": {
    "cell_type": "raw",
    "source": [],
    "metadata": {
     "collapsed": false
    }
   }
  }
 },
 "nbformat": 4,
 "nbformat_minor": 0
}